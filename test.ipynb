{
 "cells": [
  {
   "cell_type": "markdown",
   "metadata": {},
   "source": [
    "# Test Your Model"
   ]
  },
  {
   "cell_type": "code",
   "execution_count": 1,
   "metadata": {},
   "outputs": [],
   "source": [
    "import pickle\n",
    "import pandas as pd\n",
    "import re, string, nltk\n",
    "from nltk.corpus import stopwords\n",
    "from nltk.stem import WordNetLemmatizer\n",
    "from sklearn.metrics import confusion_matrix\n",
    "from sklearn.metrics import classification_report \n",
    "# reload your model and use it to make predictions for test text\n",
    "# you should adjust the code so as to load to your saved model/components\n",
    "def test_trained_model(model_path, test_text):\n",
    "    saved_model_dic = pickle.load(open(model_path,\"rb\"))\n",
    "    saved_clf = saved_model_dic['model']\n",
    "    saved_vectorizer = saved_model_dic['vectorizer']\n",
    "    print(len(saved_vectorizer.vocabulary))\n",
    "    new_test_vecs = saved_vectorizer.fit_transform(test_text)\n",
    "    return saved_clf.predict(new_test_vecs)"
   ]
  },
  {
   "cell_type": "markdown",
   "metadata": {},
   "source": [
    "# Preprocessing functions\n",
    "\n",
    "As like the training steps, I have created a preprocessing function that will do the same stuff as the training steps with a pattern and stripping whitespace with converting to lowercase and replacing opostrophes with punctatuation and stopword removal."
   ]
  },
  {
   "cell_type": "code",
   "execution_count": 2,
   "metadata": {},
   "outputs": [],
   "source": [
    "def text_preprocessor(data):\n",
    "    \n",
    "    data_copy = data\n",
    "    \n",
    "    pattern = '<.*?>|&([a-z0-9]+|#[0-9]{1,6}|#x[0-9a-f]{1,6});'\n",
    "    data = [re.sub(re.compile(pattern), '', new_line) for new_line in data_copy]\n",
    "\n",
    "    # strip whitespace and converting to lower case\n",
    "    lower_case = [new_line.strip().lower() for new_line in data_copy]\n",
    "    \n",
    "    # Replace apostrophes with words\n",
    "    processed = []\n",
    "    for new_line in lower_case:\n",
    "        new_line = new_line.replace(\"-\", \" \")\n",
    "        words = [negate_handle[new_word] if new_word in negate_handle else new_word for new_word in new_line.split()]\n",
    "        processed.append(\" \".join(words))\n",
    "        \n",
    "    #remove punctuation\n",
    "    processed = [new_line.translate(str.maketrans('', '', string.punctuation)) for new_line in processed] \n",
    "    \n",
    "    # removing stopwords\n",
    "    stops = set(stopwords.words(\"english\"))\n",
    "    processed = [\" \".join([new_word for new_word in new_line.split() if new_word not in stops]) for new_line in processed]\n",
    "    \n",
    "    return processed\n",
    "\n",
    "def stem_lemmatize(data):\n",
    "    \n",
    "    data_copy = data\n",
    "    \n",
    "    # lemmatization\n",
    "    lemmatizer=WordNetLemmatizer()\n",
    "    processed = [\" \".join([lemmatizer.lemmatize(new_word) for new_word in new_line.split()]) for new_line in data_copy]\n",
    "    \n",
    "    return processed"
   ]
  },
  {
   "cell_type": "markdown",
   "metadata": {},
   "source": [
    "# Getting data to work with \n",
    "\n",
    "Basically, when I created the training algorithm and saved it, I have saved the classifier and the handle that I worked with the feature names and everything needed so in this step I am retrieving the information with transforming the sentiment column to 1 and 0. After that, getting the saved classifier with the handle and transforming the data text to list and getting 5000 data from it"
   ]
  },
  {
   "cell_type": "code",
   "execution_count": 3,
   "metadata": {},
   "outputs": [
    {
     "name": "stdout",
     "output_type": "stream",
     "text": [
      "the size of the data is: 5000\n"
     ]
    }
   ],
   "source": [
    "# load sample test data\n",
    "test_data = pd.read_csv('coursework1_train.csv')\n",
    "if('Unnamed: 0' in test_data.columns):\n",
    "    del test_data['Unnamed: 0']\n",
    "    \n",
    "test_data['sentiment'] = test_data.sentiment.map(lambda x: int(1) if x =='pos' else int(0))\n",
    "\n",
    "# preprocessing unseen data\n",
    "with open(\"sample_trained_model.pickle\", \"rb\") as f:\n",
    "    saved_file_comp = pickle.load(f)\n",
    "    \n",
    "saved_clf = saved_file_comp['model']\n",
    "negate_handle = saved_file_comp[\"negate_handle\"]\n",
    "feature = saved_file_comp[\"feature_names\"]\n",
    "data_processed = text_preprocessor(test_data['text'].tolist())\n",
    "data_processed = stem_lemmatize(data_processed)\n",
    "test_data['text'] = data_processed\n",
    "    \n",
    "test_text = test_data['text'].tolist()[-5000:]\n",
    "y_test = test_data['sentiment'].tolist()[-5000:]\n",
    "\n",
    "print('the size of the data is:', len(y_test))"
   ]
  },
  {
   "cell_type": "markdown",
   "metadata": {},
   "source": [
    "# Testing the model\n",
    "\n",
    "in the final step, I have tested the model and getting the accuracy of it"
   ]
  },
  {
   "cell_type": "code",
   "execution_count": 4,
   "metadata": {},
   "outputs": [
    {
     "name": "stdout",
     "output_type": "stream",
     "text": [
      "5000\n",
      "the accuracy is: 0.8458\n",
      "[[2052  438]\n",
      " [ 333 2177]]\n",
      "              precision    recall  f1-score   support\n",
      "\n",
      "           0       0.86      0.82      0.84      2490\n",
      "           1       0.83      0.87      0.85      2510\n",
      "\n",
      "    accuracy                           0.85      5000\n",
      "   macro avg       0.85      0.85      0.85      5000\n",
      "weighted avg       0.85      0.85      0.85      5000\n",
      "\n"
     ]
    }
   ],
   "source": [
    "from sklearn.metrics import accuracy_score\n",
    "pred_for_new_test = test_trained_model(\"sample_trained_model.pickle\", test_text)\n",
    "acc = accuracy_score(y_test, pred_for_new_test)\n",
    "print('the accuracy is:', acc)\n",
    "\n",
    "# confusion matrix\n",
    "print(confusion_matrix(y_test, pred_for_new_test))\n",
    "\n",
    "# classification_report\n",
    "print(classification_report(y_test, pred_for_new_test))"
   ]
  },
  {
   "cell_type": "code",
   "execution_count": null,
   "metadata": {},
   "outputs": [],
   "source": []
  }
 ],
 "metadata": {
  "kernelspec": {
   "display_name": "Python 3",
   "language": "python",
   "name": "python3"
  },
  "language_info": {
   "codemirror_mode": {
    "name": "ipython",
    "version": 3
   },
   "file_extension": ".py",
   "mimetype": "text/x-python",
   "name": "python",
   "nbconvert_exporter": "python",
   "pygments_lexer": "ipython3",
   "version": "3.8.5"
  }
 },
 "nbformat": 4,
 "nbformat_minor": 2
}
